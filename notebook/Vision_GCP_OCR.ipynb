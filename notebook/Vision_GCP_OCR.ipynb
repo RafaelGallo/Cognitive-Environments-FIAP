{
 "cells": [
  {
   "cell_type": "code",
   "execution_count": 5,
   "id": "72768bee-db68-45cc-af7b-ceff08f5f733",
   "metadata": {},
   "outputs": [
    {
     "name": "stdout",
     "output_type": "stream",
     "text": [
      "Requirement already satisfied: google-cloud-vision in c:\\users\\rafae.rafael_notebook\\anaconda3\\lib\\site-packages (3.10.2)\n",
      "Requirement already satisfied: google-api-core!=2.0.*,!=2.1.*,!=2.10.*,!=2.2.*,!=2.3.*,!=2.4.*,!=2.5.*,!=2.6.*,!=2.7.*,!=2.8.*,!=2.9.*,<3.0.0,>=1.34.1 in c:\\users\\rafae.rafael_notebook\\anaconda3\\lib\\site-packages (from google-api-core[grpc]!=2.0.*,!=2.1.*,!=2.10.*,!=2.2.*,!=2.3.*,!=2.4.*,!=2.5.*,!=2.6.*,!=2.7.*,!=2.8.*,!=2.9.*,<3.0.0,>=1.34.1->google-cloud-vision) (2.24.2)\n",
      "Requirement already satisfied: google-auth!=2.24.0,!=2.25.0,<3.0.0,>=2.14.1 in c:\\users\\rafae.rafael_notebook\\anaconda3\\lib\\site-packages (from google-cloud-vision) (2.40.1)\n",
      "Requirement already satisfied: proto-plus<2.0.0,>=1.22.3 in c:\\users\\rafae.rafael_notebook\\anaconda3\\lib\\site-packages (from google-cloud-vision) (1.26.1)\n",
      "Requirement already satisfied: protobuf!=4.21.0,!=4.21.1,!=4.21.2,!=4.21.3,!=4.21.4,!=4.21.5,<7.0.0,>=3.20.2 in c:\\users\\rafae.rafael_notebook\\anaconda3\\lib\\site-packages (from google-cloud-vision) (5.29.5)\n",
      "Requirement already satisfied: googleapis-common-protos<2.0.0,>=1.56.2 in c:\\users\\rafae.rafael_notebook\\anaconda3\\lib\\site-packages (from google-api-core!=2.0.*,!=2.1.*,!=2.10.*,!=2.2.*,!=2.3.*,!=2.4.*,!=2.5.*,!=2.6.*,!=2.7.*,!=2.8.*,!=2.9.*,<3.0.0,>=1.34.1->google-api-core[grpc]!=2.0.*,!=2.1.*,!=2.10.*,!=2.2.*,!=2.3.*,!=2.4.*,!=2.5.*,!=2.6.*,!=2.7.*,!=2.8.*,!=2.9.*,<3.0.0,>=1.34.1->google-cloud-vision) (1.70.0)\n",
      "Requirement already satisfied: requests<3.0.0,>=2.18.0 in c:\\users\\rafae.rafael_notebook\\anaconda3\\lib\\site-packages (from google-api-core!=2.0.*,!=2.1.*,!=2.10.*,!=2.2.*,!=2.3.*,!=2.4.*,!=2.5.*,!=2.6.*,!=2.7.*,!=2.8.*,!=2.9.*,<3.0.0,>=1.34.1->google-api-core[grpc]!=2.0.*,!=2.1.*,!=2.10.*,!=2.2.*,!=2.3.*,!=2.4.*,!=2.5.*,!=2.6.*,!=2.7.*,!=2.8.*,!=2.9.*,<3.0.0,>=1.34.1->google-cloud-vision) (2.32.2)\n",
      "Requirement already satisfied: grpcio<2.0dev,>=1.33.2 in c:\\users\\rafae.rafael_notebook\\anaconda3\\lib\\site-packages (from google-api-core[grpc]!=2.0.*,!=2.1.*,!=2.10.*,!=2.2.*,!=2.3.*,!=2.4.*,!=2.5.*,!=2.6.*,!=2.7.*,!=2.8.*,!=2.9.*,<3.0.0,>=1.34.1->google-cloud-vision) (1.72.0rc1)\n",
      "Requirement already satisfied: grpcio-status<2.0.dev0,>=1.33.2 in c:\\users\\rafae.rafael_notebook\\anaconda3\\lib\\site-packages (from google-api-core[grpc]!=2.0.*,!=2.1.*,!=2.10.*,!=2.2.*,!=2.3.*,!=2.4.*,!=2.5.*,!=2.6.*,!=2.7.*,!=2.8.*,!=2.9.*,<3.0.0,>=1.34.1->google-cloud-vision) (1.71.0)\n",
      "Requirement already satisfied: cachetools<6.0,>=2.0.0 in c:\\users\\rafae.rafael_notebook\\anaconda3\\lib\\site-packages (from google-auth!=2.24.0,!=2.25.0,<3.0.0,>=2.14.1->google-cloud-vision) (5.3.3)\n",
      "Requirement already satisfied: pyasn1-modules>=0.2.1 in c:\\users\\rafae.rafael_notebook\\anaconda3\\lib\\site-packages (from google-auth!=2.24.0,!=2.25.0,<3.0.0,>=2.14.1->google-cloud-vision) (0.2.8)\n",
      "Requirement already satisfied: rsa<5,>=3.1.4 in c:\\users\\rafae.rafael_notebook\\anaconda3\\lib\\site-packages (from google-auth!=2.24.0,!=2.25.0,<3.0.0,>=2.14.1->google-cloud-vision) (4.9.1)\n",
      "Requirement already satisfied: charset-normalizer<4,>=2 in c:\\users\\rafae.rafael_notebook\\anaconda3\\lib\\site-packages (from requests<3.0.0,>=2.18.0->google-api-core!=2.0.*,!=2.1.*,!=2.10.*,!=2.2.*,!=2.3.*,!=2.4.*,!=2.5.*,!=2.6.*,!=2.7.*,!=2.8.*,!=2.9.*,<3.0.0,>=1.34.1->google-api-core[grpc]!=2.0.*,!=2.1.*,!=2.10.*,!=2.2.*,!=2.3.*,!=2.4.*,!=2.5.*,!=2.6.*,!=2.7.*,!=2.8.*,!=2.9.*,<3.0.0,>=1.34.1->google-cloud-vision) (2.0.4)\n",
      "Requirement already satisfied: idna<4,>=2.5 in c:\\users\\rafae.rafael_notebook\\anaconda3\\lib\\site-packages (from requests<3.0.0,>=2.18.0->google-api-core!=2.0.*,!=2.1.*,!=2.10.*,!=2.2.*,!=2.3.*,!=2.4.*,!=2.5.*,!=2.6.*,!=2.7.*,!=2.8.*,!=2.9.*,<3.0.0,>=1.34.1->google-api-core[grpc]!=2.0.*,!=2.1.*,!=2.10.*,!=2.2.*,!=2.3.*,!=2.4.*,!=2.5.*,!=2.6.*,!=2.7.*,!=2.8.*,!=2.9.*,<3.0.0,>=1.34.1->google-cloud-vision) (3.7)\n",
      "Requirement already satisfied: urllib3<3,>=1.21.1 in c:\\users\\rafae.rafael_notebook\\anaconda3\\lib\\site-packages (from requests<3.0.0,>=2.18.0->google-api-core!=2.0.*,!=2.1.*,!=2.10.*,!=2.2.*,!=2.3.*,!=2.4.*,!=2.5.*,!=2.6.*,!=2.7.*,!=2.8.*,!=2.9.*,<3.0.0,>=1.34.1->google-api-core[grpc]!=2.0.*,!=2.1.*,!=2.10.*,!=2.2.*,!=2.3.*,!=2.4.*,!=2.5.*,!=2.6.*,!=2.7.*,!=2.8.*,!=2.9.*,<3.0.0,>=1.34.1->google-cloud-vision) (2.2.2)\n",
      "Requirement already satisfied: certifi>=2017.4.17 in c:\\users\\rafae.rafael_notebook\\anaconda3\\lib\\site-packages (from requests<3.0.0,>=2.18.0->google-api-core!=2.0.*,!=2.1.*,!=2.10.*,!=2.2.*,!=2.3.*,!=2.4.*,!=2.5.*,!=2.6.*,!=2.7.*,!=2.8.*,!=2.9.*,<3.0.0,>=1.34.1->google-api-core[grpc]!=2.0.*,!=2.1.*,!=2.10.*,!=2.2.*,!=2.3.*,!=2.4.*,!=2.5.*,!=2.6.*,!=2.7.*,!=2.8.*,!=2.9.*,<3.0.0,>=1.34.1->google-cloud-vision) (2024.6.2)\n",
      "Requirement already satisfied: pyasn1>=0.1.3 in c:\\users\\rafae.rafael_notebook\\anaconda3\\lib\\site-packages (from rsa<5,>=3.1.4->google-auth!=2.24.0,!=2.25.0,<3.0.0,>=2.14.1->google-cloud-vision) (0.4.8)\n"
     ]
    },
    {
     "name": "stderr",
     "output_type": "stream",
     "text": [
      "\n",
      "[notice] A new release of pip is available: 25.1.1 -> 25.2\n",
      "[notice] To update, run: python.exe -m pip install --upgrade pip\n"
     ]
    }
   ],
   "source": [
    "!pip install google-cloud-vision"
   ]
  },
  {
   "cell_type": "code",
   "execution_count": null,
   "id": "73629f5f",
   "metadata": {},
   "outputs": [],
   "source": [
    "import io\n",
    "\n",
    "import sys\n",
    "from pathlib import Path\n",
    "from google.cloud import vision\n",
    "from PIL import Image\n",
    "import imagehash\n",
    "\n",
    "# ========= OCR =========\n",
    "def extract_text(client, image_path: str) -> str:\n",
    "    with io.open(image_path, \"rb\") as f:\n",
    "        content = f.read()\n",
    "    image = vision.Image(content=content)\n",
    "\n",
    "    response = client.text_detection(image=image)\n",
    "    texts = response.text_annotations\n",
    "    return texts[0].description if texts else \"\"\n",
    "\n",
    "# ========= FACE EXTRACTION =========\n",
    "def extract_face_and_save(client, image_path: str, output_file: str):\n",
    "    with io.open(image_path, \"rb\") as f:\n",
    "        content = f.read()\n",
    "    image = vision.Image(content=content)\n",
    "\n",
    "    response = client.face_detection(image=image)\n",
    "    faces = response.face_annotations\n",
    "    if not faces:\n",
    "        return None\n",
    "\n",
    "    with Image.open(image_path) as pil_img:\n",
    "        face = faces[0]\n",
    "        x_min = min(v.x for v in face.bounding_poly.vertices)\n",
    "        y_min = min(v.y for v in face.bounding_poly.vertices)\n",
    "        x_max = max(v.x for v in face.bounding_poly.vertices)\n",
    "        y_max = max(v.y for v in face.bounding_poly.vertices)\n",
    "\n",
    "        face_crop = pil_img.crop((x_min, y_min, x_max, y_max))\n",
    "        face_crop.save(output_file)\n",
    "        return output_file\n",
    "\n",
    "# ========= FACE COMPARISON =========\n",
    "def compare_faces(img1_path: str, img2_path: str, threshold: float = 0.75):\n",
    "    try:\n",
    "        hash1 = imagehash.phash(Image.open(img1_path))\n",
    "        hash2 = imagehash.phash(Image.open(img2_path))\n",
    "        diff = hash1 - hash2\n",
    "        similarity = 1 - (diff / 64.0)\n",
    "        match = similarity >= threshold\n",
    "        return match, float(similarity)\n",
    "    except Exception as e:\n",
    "        print(f\"Erro na comparação: {e}\")\n",
    "        return False, 0.0\n",
    "\n",
    "# Ajuste o caminho para a pasta onde está o utils.py\n",
    "BASE_DIR = Path(\"G:/Meu Drive/AI_data_lab/Cursos_ml_AI/Fiap/Cognitive Environments/trabalho_final\")\n",
    "sys.path.append(str(BASE_DIR))"
   ]
  },
  {
   "cell_type": "code",
   "execution_count": 7,
   "id": "488615f1",
   "metadata": {},
   "outputs": [],
   "source": [
    "import os\n",
    "import json\n",
    "import pandas as pd\n",
    "from pathlib import Path\n",
    "from google.cloud import vision\n",
    "from google.oauth2 import service_account\n",
    "\n",
    "# importa funções utilitárias\n",
    "from utils import extract_text, compare_faces, extract_face_and_save"
   ]
  },
  {
   "cell_type": "code",
   "execution_count": 8,
   "id": "477236aa-002a-4687-a960-dc04276d889e",
   "metadata": {},
   "outputs": [
    {
     "name": "stdout",
     "output_type": "stream",
     "text": [
      "Credenciais carregadas com sucesso.\n"
     ]
    }
   ],
   "source": [
    "# configuração de credenciais\n",
    "SERVICE_ACCOUNT_FILE = (\n",
    "    r\"G:\\Meu Drive\\AI_data_lab\\Cursos_ml_AI\\Fiap\\Cognitive Environments\"\n",
    "    r\"\\trabalho_final\\cred\\dts-10-ds-32748754226a.json\"\n",
    ")\n",
    "\n",
    "os.environ[\"GOOGLE_APPLICATION_CREDENTIALS\"] = SERVICE_ACCOUNT_FILE\n",
    "creds = service_account.Credentials.from_service_account_file(\n",
    "    SERVICE_ACCOUNT_FILE\n",
    ")\n",
    "client = vision.ImageAnnotatorClient(credentials=creds)\n",
    "print(\"Credenciais carregadas com sucesso.\")"
   ]
  },
  {
   "cell_type": "code",
   "execution_count": 9,
   "id": "d1697b7d",
   "metadata": {},
   "outputs": [],
   "source": [
    "# configuração global\n",
    "THRESHOLD = 0.7  # limite mínimo de similaridade aceito\n",
    "\n",
    "# definição de caminhos\n",
    "doc_path = Path(\n",
    "    r\"G:\\Meu Drive\\AI_data_lab\\Cursos_ml_AI\\Fiap\\Cognitive Environments\"\n",
    "    r\"\\trabalho_final\\data\\006.jpeg\"\n",
    ")\n",
    "comp_path = Path(\n",
    "    r\"G:\\Meu Drive\\AI_data_lab\\Cursos_ml_AI\\Fiap\\Cognitive Environments\"\n",
    "    r\"\\trabalho_final\\data\\003.jpg\"\n",
    ")\n",
    "selfie_path = Path(\n",
    "    r\"G:\\Meu Drive\\AI_data_lab\\Cursos_ml_AI\\Fiap\\Cognitive Environments\"\n",
    "    r\"\\trabalho_final\\data\\007.png\"\n",
    ")\n",
    "out_dir = Path(\"outputs\")\n",
    "out_dir.mkdir(parents=True, exist_ok=True)"
   ]
  },
  {
   "cell_type": "code",
   "execution_count": 10,
   "id": "d28c159e-d530-4c8e-9cd8-f2bb84eb3a73",
   "metadata": {},
   "outputs": [
    {
     "name": "stdout",
     "output_type": "stream",
     "text": [
      "Extraindo OCR da CNH...\n",
      "Extraindo OCR do Comprovante...\n",
      "Extraindo rosto da CNH...\n",
      "Rosto salvo em: outputs\\face_doc.jpg\n",
      "Comparando selfie com CNH...\n",
      "Face não compatível! Similaridade: 0.688 (mínimo aceito = 0.7)\n"
     ]
    }
   ],
   "source": [
    "# OCR\n",
    "print(\"Extraindo OCR da CNH...\")\n",
    "doc_text = extract_text(client, str(doc_path))\n",
    "\n",
    "print(\"Extraindo OCR do Comprovante...\")\n",
    "comp_text = extract_text(client, str(comp_path))\n",
    "\n",
    "# extração de rosto\n",
    "print(\"Extraindo rosto da CNH...\")\n",
    "face_from_doc = extract_face_and_save(\n",
    "    client, str(doc_path), str(out_dir / \"face_doc.jpg\")\n",
    ")\n",
    "\n",
    "# comparação facial\n",
    "print(\"Comparando selfie com CNH...\")\n",
    "match, similarity = compare_faces(\n",
    "    str(selfie_path), str(face_from_doc), threshold=THRESHOLD\n",
    ")\n",
    "\n",
    "if match:\n",
    "    print(\n",
    "        f\"Face compatível! Similaridade: {similarity:.3f} \"\n",
    "        f\"(mínimo aceito = {THRESHOLD})\"\n",
    "    )\n",
    "else:\n",
    "    print(\n",
    "        f\"Face não compatível! Similaridade: {similarity:.3f} \"\n",
    "        f\"(mínimo aceito = {THRESHOLD})\"\n",
    "    )\n",
    "\n",
    "# consolidação de resultados\n",
    "resultado = {\n",
    "    \"face_match\": bool(match),\n",
    "    \"similaridade\": float(round(similarity, 3)),\n",
    "    \"threshold_utilizado\": THRESHOLD,\n",
    "    \"documento_extraido\": str(doc_text),\n",
    "    \"comprovante_extraido\": str(comp_text),\n",
    "    \"nome_valido\": bool(\"LUIZ ANTONIO DE OLIVEIRA\" in comp_text),\n",
    "}"
   ]
  },
  {
   "cell_type": "code",
   "execution_count": 11,
   "id": "0ce990b0-0c70-4815-80e8-b1a350ce3d73",
   "metadata": {},
   "outputs": [
    {
     "name": "stdout",
     "output_type": "stream",
     "text": [
      "JSON salvo em G:\\Meu Drive\\AI_data_lab\\Cursos_ml_AI\\Fiap\\Cognitive Environments\\trabalho_final\\notebook\\outputs\\results.json\n",
      "CSV salvo em G:\\Meu Drive\\AI_data_lab\\Cursos_ml_AI\\Fiap\\Cognitive Environments\\trabalho_final\\notebook\\outputs\\results.csv\n",
      "Pipeline concluído com sucesso!\n"
     ]
    }
   ],
   "source": [
    "# salvar JSON\n",
    "json_file = out_dir / \"results.json\"\n",
    "with open(json_file, \"w\", encoding=\"utf-8\") as f:\n",
    "    json.dump(resultado, f, ensure_ascii=False, indent=4)\n",
    "print(f\"JSON salvo em {json_file.resolve()}\")\n",
    "\n",
    "# salvar CSV\n",
    "df = pd.DataFrame([resultado])\n",
    "csv_file = out_dir / \"results.csv\"\n",
    "df.to_csv(csv_file, index=False, encoding=\"utf-8-sig\")\n",
    "print(f\"CSV salvo em {csv_file.resolve()}\")\n",
    "\n",
    "print(\"Pipeline concluído com sucesso!\")"
   ]
  }
 ],
 "metadata": {
  "kernelspec": {
   "display_name": "base",
   "language": "python",
   "name": "python3"
  },
  "language_info": {
   "codemirror_mode": {
    "name": "ipython",
    "version": 3
   },
   "file_extension": ".py",
   "mimetype": "text/x-python",
   "name": "python",
   "nbconvert_exporter": "python",
   "pygments_lexer": "ipython3",
   "version": "3.12.4"
  }
 },
 "nbformat": 4,
 "nbformat_minor": 5
}
